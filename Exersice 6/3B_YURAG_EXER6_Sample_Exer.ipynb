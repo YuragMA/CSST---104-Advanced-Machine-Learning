{
  "nbformat": 4,
  "nbformat_minor": 0,
  "metadata": {
    "colab": {
      "provenance": []
    },
    "kernelspec": {
      "name": "python3",
      "display_name": "Python 3"
    },
    "language_info": {
      "name": "python"
    }
  },
  "cells": [
    {
      "cell_type": "markdown",
      "source": [],
      "metadata": {
        "id": "ZcKMjyeK775Y"
      }
    },
    {
      "cell_type": "markdown",
      "source": [
        "# **Advanced Machine Learning**\n",
        "\n",
        "Yurag, Marivient Alexia R.\n",
        "\n",
        "BSCS - IS - 3B\n",
        "\n",
        "March 06, 2024\n",
        "\n",
        "Exercise 6 Sample"
      ],
      "metadata": {
        "id": "c7Mgy2KqWMf2"
      }
    },
    {
      "cell_type": "markdown",
      "source": [
        "**Logistic Regression**"
      ],
      "metadata": {
        "id": "NQzxYG6bHqno"
      }
    },
    {
      "cell_type": "markdown",
      "source": [
        "**1. Import Necessasry Libraries**"
      ],
      "metadata": {
        "id": "AtTizdwKHtU3"
      }
    },
    {
      "cell_type": "code",
      "source": [
        "import pandas as pd\n",
        "from sklearn.model_selection import train_test_split\n",
        "from sklearn.linear_model import LogisticRegression\n",
        "from sklearn.metrics import accuracy_score, confusion_matrix, classification_report\n",
        "from sklearn.preprocessing import StandardScaler, OneHotEncoder\n",
        "from sklearn.compose import ColumnTransformer\n",
        "from sklearn.pipeline import Pipeline\n",
        "from sklearn.impute import SimpleImputer"
      ],
      "metadata": {
        "id": "HWpmETmpCE-T"
      },
      "execution_count": null,
      "outputs": []
    },
    {
      "cell_type": "markdown",
      "source": [
        "**2. Load Dataset**"
      ],
      "metadata": {
        "id": "bPY0RdyIHyem"
      }
    },
    {
      "cell_type": "code",
      "source": [
        "df = pd.read_csv('titanic_data.csv')\n",
        "\n",
        "#statistics = df.describe()\n",
        "df.head()\n",
        "#print(statistics)"
      ],
      "metadata": {
        "id": "jJFrv-iyCI6a"
      },
      "execution_count": null,
      "outputs": []
    },
    {
      "cell_type": "markdown",
      "source": [
        "**3. Select Features and Target Variable**"
      ],
      "metadata": {
        "id": "wwrn3UhcH32j"
      }
    },
    {
      "cell_type": "code",
      "source": [
        "features = ['Pclass', 'Sex', 'Age', 'SibSp', 'Parch', 'Fare', 'Embarked']\n",
        "target = ['Survived']"
      ],
      "metadata": {
        "id": "xvUDDS_xHoyq"
      },
      "execution_count": null,
      "outputs": []
    },
    {
      "cell_type": "markdown",
      "source": [
        "**4. Preprocess the Data**"
      ],
      "metadata": {
        "id": "JPZwOvrRITvI"
      }
    },
    {
      "cell_type": "code",
      "source": [
        "# Separating X and y\n",
        "X = df[features]\n",
        "y = df[target]\n",
        "\n",
        "# Handling missing values and encoding categorical variables\n",
        "numeric_features = ['Age', 'SibSp', 'Parch', 'Fare']\n",
        "numeric_transformer = Pipeline(steps=[\n",
        "    ('imputer', SimpleImputer(strategy='median')),\n",
        "    ('scaler', StandardScaler())])\n",
        "\n",
        "categorical_features = ['Pclass', 'Sex', 'Embarked']\n",
        "categorical_transformer = Pipeline(steps=[\n",
        "    ('imputer', SimpleImputer(strategy='constant', fill_value='missing')),\n",
        "    ('onehot', OneHotEncoder(handle_unknown='ignore'))])\n",
        "\n",
        "# Column transformer for preprocessing\n",
        "preprocessor = ColumnTransformer(\n",
        "    transformers=[\n",
        "        ('num', numeric_transformer, numeric_features),\n",
        "        ('cat', categorical_transformer, categorical_features)])"
      ],
      "metadata": {
        "id": "x0bIAdGYIWsr"
      },
      "execution_count": null,
      "outputs": []
    },
    {
      "cell_type": "markdown",
      "source": [
        "**5. Split the Data Into Training and Test Sets**"
      ],
      "metadata": {
        "id": "zUGFyCL8Ij5e"
      }
    },
    {
      "cell_type": "code",
      "source": [
        "X_train, X_test, y_train, y_test = train_test_split(X, y, test_size=0.2, random_state=42)"
      ],
      "metadata": {
        "id": "IVpML0--I8SK"
      },
      "execution_count": null,
      "outputs": []
    },
    {
      "cell_type": "markdown",
      "source": [
        "**6. Create and Train the Logistics Regression Model**"
      ],
      "metadata": {
        "id": "c74KvVfjJL2O"
      }
    },
    {
      "cell_type": "code",
      "source": [
        "# Creating the logistic regression pipeline\n",
        "clf = Pipeline(steps=[('preprocessor', preprocessor),\n",
        "                      ('classifier', LogisticRegression())])\n",
        "\n",
        "# Fitting the model\n",
        "clf.fit(X_train, y_train)"
      ],
      "metadata": {
        "id": "eJHQOGFNJVLj"
      },
      "execution_count": null,
      "outputs": []
    },
    {
      "cell_type": "markdown",
      "source": [
        "**7. Make Predictions and Evaluate the Model**"
      ],
      "metadata": {
        "id": "DNSEBN9aJjFF"
      }
    },
    {
      "cell_type": "code",
      "source": [
        "# Predictions\n",
        "y_pred = clf.predict(X_test)\n",
        "\n",
        "# Evaluating the model\n",
        "accuracy = accuracy_score(y_test, y_pred)\n",
        "conf_matrix = confusion_matrix(y_test, y_pred)\n",
        "class_report = classification_report(y_test, y_pred)\n",
        "\n",
        "print(f'Accuracy: {accuracy}')\n",
        "print(f'Confusion Matrix: \\n{conf_matrix}')\n",
        "print(f'Classification Report: \\n{class_report}')\n"
      ],
      "metadata": {
        "colab": {
          "base_uri": "https://localhost:8080/"
        },
        "id": "rxnwNFGEJnf8",
        "outputId": "b5e5b82f-a522-4d79-8841-a952e92243de"
      },
      "execution_count": null,
      "outputs": [
        {
          "output_type": "stream",
          "name": "stdout",
          "text": [
            "Accuracy: 0.7988826815642458\n",
            "Confusion Matrix: \n",
            "[[90 15]\n",
            " [21 53]]\n",
            "Classification Report: \n",
            "              precision    recall  f1-score   support\n",
            "\n",
            "           0       0.81      0.86      0.83       105\n",
            "           1       0.78      0.72      0.75        74\n",
            "\n",
            "    accuracy                           0.80       179\n",
            "   macro avg       0.80      0.79      0.79       179\n",
            "weighted avg       0.80      0.80      0.80       179\n",
            "\n"
          ]
        }
      ]
    }
  ]
}