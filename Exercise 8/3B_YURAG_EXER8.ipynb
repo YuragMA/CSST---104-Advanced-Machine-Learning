{
  "nbformat": 4,
  "nbformat_minor": 0,
  "metadata": {
    "colab": {
      "provenance": []
    },
    "kernelspec": {
      "name": "python3",
      "display_name": "Python 3"
    },
    "language_info": {
      "name": "python"
    }
  },
  "cells": [
    {
      "cell_type": "markdown",
      "source": [
        "# **Advanced Machine Learning**\n",
        "\n",
        "Yurag, Marivient Alexia R.\n",
        "\n",
        "BSCS - IS - 3B\n",
        "\n",
        "March 27, 2024\n",
        "\n",
        "Assessment 8"
      ],
      "metadata": {
        "id": "th83Xk0k4FRp"
      }
    },
    {
      "cell_type": "markdown",
      "source": [
        "**Assessment Task: Pollution Data Time Series Analysis Using ARIMA**"
      ],
      "metadata": {
        "id": "rPr8SHLF4N-K"
      }
    },
    {
      "cell_type": "markdown",
      "source": [
        "**Import Libraries**"
      ],
      "metadata": {
        "id": "XR6fc3ag4okT"
      }
    },
    {
      "cell_type": "code",
      "source": [
        "import pandas as pd\n",
        "import numpy as np\n",
        "import matplotlib.pyplot as plt\n",
        "from statsmodels.graphics.tsaplots import plot_acf, plot_pacf\n",
        "from pandas.plotting import register_matplotlib_converters\n",
        "register_matplotlib_converters()\n",
        "from statsmodels.tsa.stattools import adfuller\n",
        "from sklearn.metrics import mean_squared_error\n",
        "from statsmodels.tsa.arima.model import ARIMA"
      ],
      "metadata": {
        "id": "6TbWLXVA4qsQ"
      },
      "execution_count": null,
      "outputs": []
    },
    {
      "cell_type": "markdown",
      "source": [
        "**1. Dataset Preparation**"
      ],
      "metadata": {
        "id": "h0Q2KwUq4fFw"
      }
    },
    {
      "cell_type": "code",
      "execution_count": null,
      "metadata": {
        "colab": {
          "base_uri": "https://localhost:8080/",
          "height": 330
        },
        "id": "a2k0V1Ld39PR",
        "outputId": "daa4c932-5f1b-46db-e7e9-5ebf25603499"
      },
      "outputs": [
        {
          "output_type": "execute_result",
          "data": {
            "text/plain": [
              "   pollution_2023  pollution_growth_Rate   country_name  ccn3 country_region  \\\n",
              "0      1428627663                0.00808          India   356           Asia   \n",
              "1      1425671352               -0.00015          China   156           Asia   \n",
              "2       339996563                0.00505  United States   840  North America   \n",
              "3       277534122                0.00738      Indonesia   360           Asia   \n",
              "4       240485658                0.01976       Pakistan   586           Asia   \n",
              "\n",
              "   united_nation_Member  country_land_Area_in_Km  pollution_density_in_km  \\\n",
              "0                  True                2973190.0                 480.5033   \n",
              "1                  True                9424702.9                 151.2696   \n",
              "2                  True                9147420.0                  37.1686   \n",
              "3                  True                1877519.0                 147.8196   \n",
              "4                  True                 770880.0                 311.9625   \n",
              "\n",
              "   pollution_density_per_Mile  \\\n",
              "0                   1244.5036   \n",
              "1                    391.7884   \n",
              "2                     96.2666   \n",
              "3                    382.8528   \n",
              "4                    807.9829   \n",
              "\n",
              "                                       share_borders  pollution_Rank  \\\n",
              "0             AFG, BGD, BTN, MMR, CHN, NPL, PAK, LKA               1   \n",
              "1  AFG, BTN, MMR, HKG, IND, KAZ, PRK, KGZ, LAO, M...               2   \n",
              "2                                           CAN, MEX               3   \n",
              "3                                      TLS, MYS, PNG               4   \n",
              "4                                 AFG, CHN, IND, IRN               5   \n",
              "\n",
              "   mostPollutedCountries_particlePollution  \n",
              "0                                    58.08  \n",
              "1                                    39.12  \n",
              "2                                     9.04  \n",
              "3                                    51.71  \n",
              "4                                    65.81  "
            ],
            "text/html": [
              "\n",
              "  <div id=\"df-14a3b354-3209-4d33-821c-ae7d51fc7b9b\" class=\"colab-df-container\">\n",
              "    <div>\n",
              "<style scoped>\n",
              "    .dataframe tbody tr th:only-of-type {\n",
              "        vertical-align: middle;\n",
              "    }\n",
              "\n",
              "    .dataframe tbody tr th {\n",
              "        vertical-align: top;\n",
              "    }\n",
              "\n",
              "    .dataframe thead th {\n",
              "        text-align: right;\n",
              "    }\n",
              "</style>\n",
              "<table border=\"1\" class=\"dataframe\">\n",
              "  <thead>\n",
              "    <tr style=\"text-align: right;\">\n",
              "      <th></th>\n",
              "      <th>pollution_2023</th>\n",
              "      <th>pollution_growth_Rate</th>\n",
              "      <th>country_name</th>\n",
              "      <th>ccn3</th>\n",
              "      <th>country_region</th>\n",
              "      <th>united_nation_Member</th>\n",
              "      <th>country_land_Area_in_Km</th>\n",
              "      <th>pollution_density_in_km</th>\n",
              "      <th>pollution_density_per_Mile</th>\n",
              "      <th>share_borders</th>\n",
              "      <th>pollution_Rank</th>\n",
              "      <th>mostPollutedCountries_particlePollution</th>\n",
              "    </tr>\n",
              "  </thead>\n",
              "  <tbody>\n",
              "    <tr>\n",
              "      <th>0</th>\n",
              "      <td>1428627663</td>\n",
              "      <td>0.00808</td>\n",
              "      <td>India</td>\n",
              "      <td>356</td>\n",
              "      <td>Asia</td>\n",
              "      <td>True</td>\n",
              "      <td>2973190.0</td>\n",
              "      <td>480.5033</td>\n",
              "      <td>1244.5036</td>\n",
              "      <td>AFG, BGD, BTN, MMR, CHN, NPL, PAK, LKA</td>\n",
              "      <td>1</td>\n",
              "      <td>58.08</td>\n",
              "    </tr>\n",
              "    <tr>\n",
              "      <th>1</th>\n",
              "      <td>1425671352</td>\n",
              "      <td>-0.00015</td>\n",
              "      <td>China</td>\n",
              "      <td>156</td>\n",
              "      <td>Asia</td>\n",
              "      <td>True</td>\n",
              "      <td>9424702.9</td>\n",
              "      <td>151.2696</td>\n",
              "      <td>391.7884</td>\n",
              "      <td>AFG, BTN, MMR, HKG, IND, KAZ, PRK, KGZ, LAO, M...</td>\n",
              "      <td>2</td>\n",
              "      <td>39.12</td>\n",
              "    </tr>\n",
              "    <tr>\n",
              "      <th>2</th>\n",
              "      <td>339996563</td>\n",
              "      <td>0.00505</td>\n",
              "      <td>United States</td>\n",
              "      <td>840</td>\n",
              "      <td>North America</td>\n",
              "      <td>True</td>\n",
              "      <td>9147420.0</td>\n",
              "      <td>37.1686</td>\n",
              "      <td>96.2666</td>\n",
              "      <td>CAN, MEX</td>\n",
              "      <td>3</td>\n",
              "      <td>9.04</td>\n",
              "    </tr>\n",
              "    <tr>\n",
              "      <th>3</th>\n",
              "      <td>277534122</td>\n",
              "      <td>0.00738</td>\n",
              "      <td>Indonesia</td>\n",
              "      <td>360</td>\n",
              "      <td>Asia</td>\n",
              "      <td>True</td>\n",
              "      <td>1877519.0</td>\n",
              "      <td>147.8196</td>\n",
              "      <td>382.8528</td>\n",
              "      <td>TLS, MYS, PNG</td>\n",
              "      <td>4</td>\n",
              "      <td>51.71</td>\n",
              "    </tr>\n",
              "    <tr>\n",
              "      <th>4</th>\n",
              "      <td>240485658</td>\n",
              "      <td>0.01976</td>\n",
              "      <td>Pakistan</td>\n",
              "      <td>586</td>\n",
              "      <td>Asia</td>\n",
              "      <td>True</td>\n",
              "      <td>770880.0</td>\n",
              "      <td>311.9625</td>\n",
              "      <td>807.9829</td>\n",
              "      <td>AFG, CHN, IND, IRN</td>\n",
              "      <td>5</td>\n",
              "      <td>65.81</td>\n",
              "    </tr>\n",
              "  </tbody>\n",
              "</table>\n",
              "</div>\n",
              "    <div class=\"colab-df-buttons\">\n",
              "\n",
              "  <div class=\"colab-df-container\">\n",
              "    <button class=\"colab-df-convert\" onclick=\"convertToInteractive('df-14a3b354-3209-4d33-821c-ae7d51fc7b9b')\"\n",
              "            title=\"Convert this dataframe to an interactive table.\"\n",
              "            style=\"display:none;\">\n",
              "\n",
              "  <svg xmlns=\"http://www.w3.org/2000/svg\" height=\"24px\" viewBox=\"0 -960 960 960\">\n",
              "    <path d=\"M120-120v-720h720v720H120Zm60-500h600v-160H180v160Zm220 220h160v-160H400v160Zm0 220h160v-160H400v160ZM180-400h160v-160H180v160Zm440 0h160v-160H620v160ZM180-180h160v-160H180v160Zm440 0h160v-160H620v160Z\"/>\n",
              "  </svg>\n",
              "    </button>\n",
              "\n",
              "  <style>\n",
              "    .colab-df-container {\n",
              "      display:flex;\n",
              "      gap: 12px;\n",
              "    }\n",
              "\n",
              "    .colab-df-convert {\n",
              "      background-color: #E8F0FE;\n",
              "      border: none;\n",
              "      border-radius: 50%;\n",
              "      cursor: pointer;\n",
              "      display: none;\n",
              "      fill: #1967D2;\n",
              "      height: 32px;\n",
              "      padding: 0 0 0 0;\n",
              "      width: 32px;\n",
              "    }\n",
              "\n",
              "    .colab-df-convert:hover {\n",
              "      background-color: #E2EBFA;\n",
              "      box-shadow: 0px 1px 2px rgba(60, 64, 67, 0.3), 0px 1px 3px 1px rgba(60, 64, 67, 0.15);\n",
              "      fill: #174EA6;\n",
              "    }\n",
              "\n",
              "    .colab-df-buttons div {\n",
              "      margin-bottom: 4px;\n",
              "    }\n",
              "\n",
              "    [theme=dark] .colab-df-convert {\n",
              "      background-color: #3B4455;\n",
              "      fill: #D2E3FC;\n",
              "    }\n",
              "\n",
              "    [theme=dark] .colab-df-convert:hover {\n",
              "      background-color: #434B5C;\n",
              "      box-shadow: 0px 1px 3px 1px rgba(0, 0, 0, 0.15);\n",
              "      filter: drop-shadow(0px 1px 2px rgba(0, 0, 0, 0.3));\n",
              "      fill: #FFFFFF;\n",
              "    }\n",
              "  </style>\n",
              "\n",
              "    <script>\n",
              "      const buttonEl =\n",
              "        document.querySelector('#df-14a3b354-3209-4d33-821c-ae7d51fc7b9b button.colab-df-convert');\n",
              "      buttonEl.style.display =\n",
              "        google.colab.kernel.accessAllowed ? 'block' : 'none';\n",
              "\n",
              "      async function convertToInteractive(key) {\n",
              "        const element = document.querySelector('#df-14a3b354-3209-4d33-821c-ae7d51fc7b9b');\n",
              "        const dataTable =\n",
              "          await google.colab.kernel.invokeFunction('convertToInteractive',\n",
              "                                                    [key], {});\n",
              "        if (!dataTable) return;\n",
              "\n",
              "        const docLinkHtml = 'Like what you see? Visit the ' +\n",
              "          '<a target=\"_blank\" href=https://colab.research.google.com/notebooks/data_table.ipynb>data table notebook</a>'\n",
              "          + ' to learn more about interactive tables.';\n",
              "        element.innerHTML = '';\n",
              "        dataTable['output_type'] = 'display_data';\n",
              "        await google.colab.output.renderOutput(dataTable, element);\n",
              "        const docLink = document.createElement('div');\n",
              "        docLink.innerHTML = docLinkHtml;\n",
              "        element.appendChild(docLink);\n",
              "      }\n",
              "    </script>\n",
              "  </div>\n",
              "\n",
              "\n",
              "<div id=\"df-6a8e6eda-b555-485f-a774-af3a25412bfb\">\n",
              "  <button class=\"colab-df-quickchart\" onclick=\"quickchart('df-6a8e6eda-b555-485f-a774-af3a25412bfb')\"\n",
              "            title=\"Suggest charts\"\n",
              "            style=\"display:none;\">\n",
              "\n",
              "<svg xmlns=\"http://www.w3.org/2000/svg\" height=\"24px\"viewBox=\"0 0 24 24\"\n",
              "     width=\"24px\">\n",
              "    <g>\n",
              "        <path d=\"M19 3H5c-1.1 0-2 .9-2 2v14c0 1.1.9 2 2 2h14c1.1 0 2-.9 2-2V5c0-1.1-.9-2-2-2zM9 17H7v-7h2v7zm4 0h-2V7h2v10zm4 0h-2v-4h2v4z\"/>\n",
              "    </g>\n",
              "</svg>\n",
              "  </button>\n",
              "\n",
              "<style>\n",
              "  .colab-df-quickchart {\n",
              "      --bg-color: #E8F0FE;\n",
              "      --fill-color: #1967D2;\n",
              "      --hover-bg-color: #E2EBFA;\n",
              "      --hover-fill-color: #174EA6;\n",
              "      --disabled-fill-color: #AAA;\n",
              "      --disabled-bg-color: #DDD;\n",
              "  }\n",
              "\n",
              "  [theme=dark] .colab-df-quickchart {\n",
              "      --bg-color: #3B4455;\n",
              "      --fill-color: #D2E3FC;\n",
              "      --hover-bg-color: #434B5C;\n",
              "      --hover-fill-color: #FFFFFF;\n",
              "      --disabled-bg-color: #3B4455;\n",
              "      --disabled-fill-color: #666;\n",
              "  }\n",
              "\n",
              "  .colab-df-quickchart {\n",
              "    background-color: var(--bg-color);\n",
              "    border: none;\n",
              "    border-radius: 50%;\n",
              "    cursor: pointer;\n",
              "    display: none;\n",
              "    fill: var(--fill-color);\n",
              "    height: 32px;\n",
              "    padding: 0;\n",
              "    width: 32px;\n",
              "  }\n",
              "\n",
              "  .colab-df-quickchart:hover {\n",
              "    background-color: var(--hover-bg-color);\n",
              "    box-shadow: 0 1px 2px rgba(60, 64, 67, 0.3), 0 1px 3px 1px rgba(60, 64, 67, 0.15);\n",
              "    fill: var(--button-hover-fill-color);\n",
              "  }\n",
              "\n",
              "  .colab-df-quickchart-complete:disabled,\n",
              "  .colab-df-quickchart-complete:disabled:hover {\n",
              "    background-color: var(--disabled-bg-color);\n",
              "    fill: var(--disabled-fill-color);\n",
              "    box-shadow: none;\n",
              "  }\n",
              "\n",
              "  .colab-df-spinner {\n",
              "    border: 2px solid var(--fill-color);\n",
              "    border-color: transparent;\n",
              "    border-bottom-color: var(--fill-color);\n",
              "    animation:\n",
              "      spin 1s steps(1) infinite;\n",
              "  }\n",
              "\n",
              "  @keyframes spin {\n",
              "    0% {\n",
              "      border-color: transparent;\n",
              "      border-bottom-color: var(--fill-color);\n",
              "      border-left-color: var(--fill-color);\n",
              "    }\n",
              "    20% {\n",
              "      border-color: transparent;\n",
              "      border-left-color: var(--fill-color);\n",
              "      border-top-color: var(--fill-color);\n",
              "    }\n",
              "    30% {\n",
              "      border-color: transparent;\n",
              "      border-left-color: var(--fill-color);\n",
              "      border-top-color: var(--fill-color);\n",
              "      border-right-color: var(--fill-color);\n",
              "    }\n",
              "    40% {\n",
              "      border-color: transparent;\n",
              "      border-right-color: var(--fill-color);\n",
              "      border-top-color: var(--fill-color);\n",
              "    }\n",
              "    60% {\n",
              "      border-color: transparent;\n",
              "      border-right-color: var(--fill-color);\n",
              "    }\n",
              "    80% {\n",
              "      border-color: transparent;\n",
              "      border-right-color: var(--fill-color);\n",
              "      border-bottom-color: var(--fill-color);\n",
              "    }\n",
              "    90% {\n",
              "      border-color: transparent;\n",
              "      border-bottom-color: var(--fill-color);\n",
              "    }\n",
              "  }\n",
              "</style>\n",
              "\n",
              "  <script>\n",
              "    async function quickchart(key) {\n",
              "      const quickchartButtonEl =\n",
              "        document.querySelector('#' + key + ' button');\n",
              "      quickchartButtonEl.disabled = true;  // To prevent multiple clicks.\n",
              "      quickchartButtonEl.classList.add('colab-df-spinner');\n",
              "      try {\n",
              "        const charts = await google.colab.kernel.invokeFunction(\n",
              "            'suggestCharts', [key], {});\n",
              "      } catch (error) {\n",
              "        console.error('Error during call to suggestCharts:', error);\n",
              "      }\n",
              "      quickchartButtonEl.classList.remove('colab-df-spinner');\n",
              "      quickchartButtonEl.classList.add('colab-df-quickchart-complete');\n",
              "    }\n",
              "    (() => {\n",
              "      let quickchartButtonEl =\n",
              "        document.querySelector('#df-6a8e6eda-b555-485f-a774-af3a25412bfb button');\n",
              "      quickchartButtonEl.style.display =\n",
              "        google.colab.kernel.accessAllowed ? 'block' : 'none';\n",
              "    })();\n",
              "  </script>\n",
              "</div>\n",
              "    </div>\n",
              "  </div>\n"
            ],
            "application/vnd.google.colaboratory.intrinsic+json": {
              "type": "dataframe",
              "summary": "{\n  \"name\": \"#print(statistics)\",\n  \"rows\": 5,\n  \"fields\": [\n    {\n      \"column\": \"pollution_2023\",\n      \"properties\": {\n        \"dtype\": \"number\",\n        \"std\": 626042119,\n        \"min\": 240485658,\n        \"max\": 1428627663,\n        \"num_unique_values\": 5,\n        \"samples\": [\n          1425671352,\n          240485658,\n          339996563\n        ],\n        \"semantic_type\": \"\",\n        \"description\": \"\"\n      }\n    },\n    {\n      \"column\": \"pollution_growth_Rate\",\n      \"properties\": {\n        \"dtype\": \"number\",\n        \"std\": 0.007311130555529699,\n        \"min\": -0.00015,\n        \"max\": 0.01976,\n        \"num_unique_values\": 5,\n        \"samples\": [\n          -0.00015,\n          0.01976,\n          0.00505\n        ],\n        \"semantic_type\": \"\",\n        \"description\": \"\"\n      }\n    },\n    {\n      \"column\": \"country_name\",\n      \"properties\": {\n        \"dtype\": \"string\",\n        \"num_unique_values\": 5,\n        \"samples\": [\n          \"China\",\n          \"Pakistan\",\n          \"United States\"\n        ],\n        \"semantic_type\": \"\",\n        \"description\": \"\"\n      }\n    },\n    {\n      \"column\": \"ccn3\",\n      \"properties\": {\n        \"dtype\": \"number\",\n        \"std\": 261,\n        \"min\": 156,\n        \"max\": 840,\n        \"num_unique_values\": 5,\n        \"samples\": [\n          156,\n          586,\n          840\n        ],\n        \"semantic_type\": \"\",\n        \"description\": \"\"\n      }\n    },\n    {\n      \"column\": \"country_region\",\n      \"properties\": {\n        \"dtype\": \"category\",\n        \"num_unique_values\": 2,\n        \"samples\": [\n          \"North America\",\n          \"Asia\"\n        ],\n        \"semantic_type\": \"\",\n        \"description\": \"\"\n      }\n    },\n    {\n      \"column\": \"united_nation_Member\",\n      \"properties\": {\n        \"dtype\": \"boolean\",\n        \"num_unique_values\": 1,\n        \"samples\": [\n          true\n        ],\n        \"semantic_type\": \"\",\n        \"description\": \"\"\n      }\n    },\n    {\n      \"column\": \"country_land_Area_in_Km\",\n      \"properties\": {\n        \"dtype\": \"number\",\n        \"std\": 4134983.9980188888,\n        \"min\": 770880.0,\n        \"max\": 9424702.9,\n        \"num_unique_values\": 5,\n        \"samples\": [\n          9424702.9\n        ],\n        \"semantic_type\": \"\",\n        \"description\": \"\"\n      }\n    },\n    {\n      \"column\": \"pollution_density_in_km\",\n      \"properties\": {\n        \"dtype\": \"number\",\n        \"std\": 172.85489617886734,\n        \"min\": 37.1686,\n        \"max\": 480.5033,\n        \"num_unique_values\": 5,\n        \"samples\": [\n          151.2696\n        ],\n        \"semantic_type\": \"\",\n        \"description\": \"\"\n      }\n    },\n    {\n      \"column\": \"pollution_density_per_Mile\",\n      \"properties\": {\n        \"dtype\": \"number\",\n        \"std\": 447.69420522518266,\n        \"min\": 96.2666,\n        \"max\": 1244.5036,\n        \"num_unique_values\": 5,\n        \"samples\": [\n          391.7884\n        ],\n        \"semantic_type\": \"\",\n        \"description\": \"\"\n      }\n    },\n    {\n      \"column\": \"share_borders\",\n      \"properties\": {\n        \"dtype\": \"string\",\n        \"num_unique_values\": 5,\n        \"samples\": [\n          \"AFG, BTN, MMR, HKG, IND, KAZ, PRK, KGZ, LAO, MAC, MNG, PAK, RUS, TJK, VNM\"\n        ],\n        \"semantic_type\": \"\",\n        \"description\": \"\"\n      }\n    },\n    {\n      \"column\": \"pollution_Rank\",\n      \"properties\": {\n        \"dtype\": \"number\",\n        \"std\": 1,\n        \"min\": 1,\n        \"max\": 5,\n        \"num_unique_values\": 5,\n        \"samples\": [\n          2\n        ],\n        \"semantic_type\": \"\",\n        \"description\": \"\"\n      }\n    },\n    {\n      \"column\": \"mostPollutedCountries_particlePollution\",\n      \"properties\": {\n        \"dtype\": \"number\",\n        \"std\": 22.22923233042473,\n        \"min\": 9.04,\n        \"max\": 65.81,\n        \"num_unique_values\": 5,\n        \"samples\": [\n          39.12\n        ],\n        \"semantic_type\": \"\",\n        \"description\": \"\"\n      }\n    }\n  ]\n}"
            }
          },
          "metadata": {},
          "execution_count": 40
        }
      ],
      "source": [
        "#Load the Dataset\n",
        "\n",
        "df = pd.read_csv('most-polluted-countries.csv')\n",
        "#statistics = df.describe()\n",
        "df.head()\n",
        "#print(statistics)"
      ]
    },
    {
      "cell_type": "code",
      "source": [
        "# Extract relevant columns\n",
        "pollution_2023 = df['pollution_2023']\n",
        "pollution_growth_rate = df['pollution_growth_Rate']\n",
        "\n",
        "# Generate time index (in this case, we'll use country indices)\n",
        "time_index = np.arange(len(df))\n",
        "\n",
        "# Simulate trend: pollution in 2023 + growth rate * time_index\n",
        "trend = pollution_2023 + pollution_growth_rate * time_index\n",
        "\n",
        "# Plot the simulated trend\n",
        "plt.figure(figsize=(10, 6))\n",
        "plt.plot(time_index, trend, label='Simulated Trend')\n",
        "plt.title('Simulated Trend of Pollution Levels Over Time')\n",
        "plt.xlabel('Country Index')\n",
        "plt.ylabel('Pollution Level in 2023')\n",
        "plt.legend()\n",
        "plt.grid(True)\n",
        "plt.show()"
      ],
      "metadata": {
        "id": "XRwYaApD6-Id"
      },
      "execution_count": null,
      "outputs": []
    },
    {
      "cell_type": "markdown",
      "source": [
        "**2.Stationarity Testing**"
      ],
      "metadata": {
        "id": "9avt0b5t7gDY"
      }
    },
    {
      "cell_type": "code",
      "source": [
        "# Extract the pollution data for the year 2023 (assuming it's in the 'pollution_2023' column)\n",
        "pollution_data = df['pollution_2023']\n",
        "\n",
        "# Perform Augmented Dickey-Fuller test\n",
        "result = adfuller(pollution_data)\n",
        "\n",
        "# Print the test result\n",
        "print('ADF Statistic:', result[0])\n",
        "print('p-value:', result[1])\n",
        "print('Critical Values:')\n",
        "for key, value in result[4].items():\n",
        "    print(f'   {key}: {value}')"
      ],
      "metadata": {
        "colab": {
          "base_uri": "https://localhost:8080/"
        },
        "id": "UeRrJiDx7iS5",
        "outputId": "597eb87b-9e49-4243-9c61-1a39eb12b498"
      },
      "execution_count": null,
      "outputs": [
        {
          "output_type": "stream",
          "name": "stdout",
          "text": [
            "ADF Statistic: -3.300734202893016\n",
            "p-value: 0.01484568748394119\n",
            "Critical Values:\n",
            "   1%: -3.5117123057187376\n",
            "   5%: -2.8970475206326833\n",
            "   10%: -2.5857126912469153\n"
          ]
        }
      ]
    },
    {
      "cell_type": "markdown",
      "source": [
        "A p-value of less than the chosen significance level (e.g., 0.05) indicates evidence against the null hypothesis of non-stationarity in the case of the Augmented Dickey-Fuller (ADF) test. This suggests that the time series data is probably steady, which makes it appropriate for use in a variety of time series analysis methods, including modeling and forecasting. But if the p-value exceeds the significance level, it is possible that the data are non-stationary, in which instance more transformations or differencing will be necessary to address trends or seasonality before executing a useful analysis."
      ],
      "metadata": {
        "id": "7OT6wvD68nON"
      }
    },
    {
      "cell_type": "markdown",
      "source": [
        "**3.ARIMA Model Identification**"
      ],
      "metadata": {
        "id": "Yn7rx86181OF"
      }
    },
    {
      "cell_type": "code",
      "source": [
        "# Plot ACF (Autocorrelation Function) and PACF (Partial Autocorrelation Function)\n",
        "plt.figure(figsize=(12, 6))\n",
        "\n",
        "# ACF plot\n",
        "plt.subplot(2, 1, 1)\n",
        "plot_acf(pollution_data, lags=20, ax=plt.gca())\n",
        "plt.title('Autocorrelation Function (ACF)')\n",
        "\n",
        "# PACF plot\n",
        "plt.subplot(2, 1, 2)\n",
        "plot_pacf(pollution_data, lags=20, ax=plt.gca())\n",
        "plt.title('Partial Autocorrelation Function (PACF)')\n",
        "\n",
        "plt.tight_layout()\n",
        "plt.show()"
      ],
      "metadata": {
        "id": "xmOO1s7282bK"
      },
      "execution_count": null,
      "outputs": []
    },
    {
      "cell_type": "markdown",
      "source": [
        "An ARIMA model's parameter selection (p, d, q) depends on determining the autocorrelation structure of the time series data. The partial autocorrelation function (PACF), which shows how many delayed terms are in the autoregressive (AR) component, has important peaks that influence the parameter p. Based on how many differencing operations are required to achieve stationarity, the parameter d is chosen. Significant peaks in the autocorrelation function (ACF), which show how many delayed terms are in the moving average (MA) component, determine the parameter q."
      ],
      "metadata": {
        "id": "DClghkUB96Va"
      }
    },
    {
      "cell_type": "markdown",
      "source": [
        "**4. ARIMA Model Fitting**"
      ],
      "metadata": {
        "id": "e_mINkMv-Am-"
      }
    },
    {
      "cell_type": "code",
      "source": [
        "# Define the identified parameters (p, d, q)\n",
        "# AR parameter\n",
        "p = 1\n",
        "# Differencing parameter\n",
        "d = 1\n",
        "# MA parameter\n",
        "q = 1\n",
        "\n",
        "# Fit the ARIMA model\n",
        "model = ARIMA(pollution_data, order=(p, d, q))\n",
        "fit_model = model.fit()\n",
        "\n",
        "# Print model summary\n",
        "print(fit_model.summary())"
      ],
      "metadata": {
        "id": "2qEVchqe-Dm5"
      },
      "execution_count": null,
      "outputs": []
    },
    {
      "cell_type": "code",
      "source": [
        "# Generate model residuals\n",
        "residuals = fit_model.resid\n",
        "\n",
        "# Plot ACF and PACF of residuals\n",
        "plt.figure(figsize=(12, 6))\n",
        "plt.subplot(2, 1, 1)\n",
        "plot_acf(residuals, lags=20, ax=plt.gca())\n",
        "plt.title('Autocorrelation Function (ACF) of Residuals')\n",
        "plt.subplot(2, 1, 2)\n",
        "plot_pacf(residuals, lags=20, ax=plt.gca())\n",
        "plt.title('Partial Autocorrelation Function (PACF) of Residuals')\n",
        "plt.tight_layout()\n",
        "plt.show()\n",
        "\n",
        "# Evaluate model performance\n",
        "mse = mean_squared_error(pollution_data, fit_model.predict())\n",
        "print(f'Mean Squared Error (MSE): {mse}')\n"
      ],
      "metadata": {
        "id": "7G1XG-yO-6e-"
      },
      "execution_count": null,
      "outputs": []
    },
    {
      "cell_type": "markdown",
      "source": [
        "**5. Forecasting**"
      ],
      "metadata": {
        "id": "d4ElT-_U_CWX"
      }
    },
    {
      "cell_type": "code",
      "source": [
        "# Forecast next 2 years (24 months)\n",
        "forecast_results = fit_model.forecast(steps=24)\n",
        "\n",
        "# Extract forecast values\n",
        "forecast_values = forecast_results\n",
        "\n",
        "# Get the residuals from the model\n",
        "residuals = fit_model.resid\n",
        "\n",
        "# Calculate the residual standard deviation\n",
        "residual_std = np.std(residuals)\n",
        "\n",
        "# Construct confidence intervals\n",
        "z_critical = 1.96  # 95% confidence interval\n",
        "forecast_se = residual_std  # Using residual standard deviation as standard error\n",
        "forecast_ci_lower = forecast_values - z_critical * forecast_se\n",
        "forecast_ci_upper = forecast_values + z_critical * forecast_se\n",
        "\n",
        "# Generate dates for the forecast period\n",
        "last_observation_date = pollution_data.index[-1]\n",
        "forecast_dates = pd.date_range(start=last_observation_date, periods=25, freq='MS')[1:]\n",
        "\n",
        "# Plot the forecast along with confidence intervals\n",
        "plt.figure(figsize=(10, 6))\n",
        "plt.plot(pollution_data.index, pollution_data, label='Observed', color='blue')\n",
        "plt.plot(forecast_dates, forecast_values, color='green', label='Forecast')\n",
        "plt.fill_between(forecast_dates, forecast_ci_lower, forecast_ci_upper, color='lightgray', label='95% Confidence Interval')\n",
        "plt.title('ARIMA Forecast of Pollution Levels')\n",
        "plt.xlabel('Date')\n",
        "plt.ylabel('Pollution Level')\n",
        "plt.legend()\n",
        "plt.grid(True)\n",
        "plt.show()"
      ],
      "metadata": {
        "colab": {
          "base_uri": "https://localhost:8080/",
          "height": 564
        },
        "id": "fv58Mb3DAXuX",
        "outputId": "f356e90b-09d9-4199-c384-0306808a66e6"
      },
      "execution_count": null,
      "outputs": [
        {
          "output_type": "display_data",
          "data": {
            "text/plain": [
              "<Figure size 1000x600 with 1 Axes>"
            ],
            "image/png": "[encoded data removed]"
          },
          "metadata": {}
        }
      ]
    }
  ]
}